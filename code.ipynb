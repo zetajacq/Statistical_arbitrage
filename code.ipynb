{
 "cells": [
  {
   "cell_type": "code",
   "execution_count": 118,
   "metadata": {},
   "outputs": [],
   "source": [
    "import pandas as pd\n",
    "from datetime import datetime\n",
    "import numpy as np\n",
    "from sklearn.linear_model import LinearRegression"
   ]
  },
  {
   "cell_type": "code",
   "execution_count": 152,
   "metadata": {},
   "outputs": [],
   "source": [
    "file = \"./Midprices/min_data.csv\"\n",
    "try:\n",
    "    df = pd.read_csv(file, index_col=0)\n",
    "    df.index = pd.to_datetime(df.index)\n",
    "\n",
    "except:\n",
    "    #df_AAPL = pd.read_csv(\"./Midprices/AAPL_1min_sample.csv\", index_col=0)\n",
    "    #df_AAPL = df_AAPL[\"close\"]\n",
    "    df_AMZN = pd.read_csv(\"./Midprices/AMZN_1min_sample.csv\", index_col=0)\n",
    "    df_AMZN = df_AMZN[\"close\"]\n",
    "    df_GOOG = pd.read_csv(\"./Midprices/GOOG_1min_sample.csv\", index_col=0)\n",
    "    df_GOOG = df_GOOG[\"close\"]\n",
    "    df_META = pd.read_csv(\"./Midprices/META_1min_sample.csv\", index_col=0)\n",
    "    df_META = df_META[\"close\"]\n",
    "    #df_NVDA = pd.read_csv(\"./Midprices/NVDA_1min_sample.csv\", index_col=0)\n",
    "    #df_NVDA = df_NVDA[\"close\"]\n",
    "    #df = pd.concat([df_AAPL, df_AMZN, df_GOOG, df_META, df_NVDA], axis=1, join='inner')\n",
    "    df = pd.concat([df_AMZN, df_GOOG, df_META], axis=1, join='inner')\n",
    "    #df.columns = [\"AAPL\", \"AMZN\", \"GOOG\", \"META\", \"NVDA\"]\n",
    "    df.columns = [\"AMZN\", \"GOOG\", \"META\"]\n",
    "    df.to_csv(file)\n",
    "    df.index = pd.to_datetime(df.index)\n"
   ]
  },
  {
   "cell_type": "code",
   "execution_count": 157,
   "metadata": {},
   "outputs": [],
   "source": [
    "file = \"./Midprices/min_data_2014_11.csv\"\n",
    "try:\n",
    "    df = pd.read_csv(file, index_col=0)\n",
    "    df.index = pd.to_datetime(df.index)\n",
    "\n",
    "except:\n",
    "\n",
    "    df_AMZN = pd.read_csv(\"./Midprices/Midprice_2014_11_AMZN.csv\", index_col=0)\n",
    "    df_AMZN = df_AMZN[\"close\"]\n",
    "    df_GOOG = pd.read_csv(\"./Midprices/Midprice_2014_11_GOOGL.csv\", index_col=0)\n",
    "    df_GOOG = df_GOOG[\"close\"]\n",
    "    df_META = pd.read_csv(\"./Midprices/Midprice_2014_11_META.csv\", index_col=0)\n",
    "    df_META = df_META[\"close\"]\n",
    "    df = pd.concat([df_AMZN, df_GOOG, df_META], axis=1, join='inner')\n",
    "    df.columns = [\"AMZN\", \"GOOG\", \"META\"]\n",
    "    df.to_csv(file)\n",
    "    df.index = pd.to_datetime(df.index)\n"
   ]
  },
  {
   "cell_type": "code",
   "execution_count": 158,
   "metadata": {},
   "outputs": [],
   "source": [
    "df = df[df.index.date == min(df.index.date)]\n",
    "df = df.resample(\"1min\").ffill()"
   ]
  },
  {
   "cell_type": "code",
   "execution_count": 126,
   "metadata": {},
   "outputs": [],
   "source": [
    "def pi(tau: np.ndarray, alpha_t: np.ndarray, params):\n",
    "    \"\"\"\n",
    "    Compute the optimal investment strategy π*.\n",
    "\n",
    "    Parameters:\n",
    "    Let n be the number of assets and T the number of time steps\n",
    "    - tau (np.ndarray): Time-to-maturity vector (shape: (T,))\n",
    "    - alpha_t (np.ndarray): Co-integration factor vector (shape: (T,))\n",
    "    - params: Tuple containing (gamma, omega, delta, nu, a)\n",
    "        - gamma (float): Risk aversion parameter\n",
    "        - omega (ndarray): Covariance matrix (n, n)\n",
    "        - delta (ndarray): Sensitivity vector (n, 1)\n",
    "        - nu (ndarray): Drift vector (n, 1)\n",
    "        - a (ndarray): Vector of weights (n, 1)\n",
    "\n",
    "    Returns:\n",
    "    - np.ndarray: Optimal investment matrix (T, n)\n",
    "    \"\"\"\n",
    "    # Unpack parameters\n",
    "    gamma, omega, delta, nu, a = params\n",
    "    t = len(tau)\n",
    "\n",
    "    A = np.diag(a)  # Diagonal matrix of a shape n x n\n",
    "    omega_inv = np.linalg.inv(omega) # Inverse of omega\n",
    "\n",
    "    # Compute common terms\n",
    "    delta_T_omega = delta.T @ omega # Shape: (1, n)\n",
    "    delta_T_omega_delta = delta_T_omega @ delta # Shape: (1, 1)\n",
    "    delta_T_omega_nu = delta_T_omega @ nu # Shape: (1, 1)\n",
    "\n",
    "    # Reshape tau and alpha_t to ensure correct broadcasting\n",
    "    tau = tau[:, None]  # Shape (T, 1)\n",
    "    alpha_t = alpha_t[:, None]  # Shape (T, 1)\n",
    "    nu = nu[:, None]  # Shape (n,)\n",
    "    delta = delta[:, None]  # Shape (n,)\n",
    "    a = a[:, None]  # Shape (n,)\n",
    "\n",
    "    # Compute first term: Omega inverse applied to (delta * alpha + nu)\n",
    "    term1 = omega_inv @ (delta @ alpha_t.T + nu @ np.ones((1,t)))  # Shape: (n, T)\n",
    "\n",
    "\n",
    "    # Compute second term: Adjustment based on short-term alpha and co-integration factor\n",
    "    term2 = (1 / 2 * tau * (alpha_t - 2 * delta_T_omega_nu / delta_T_omega_delta))  # (T, 1)\n",
    "    term3 = (1 / 4 * np.trace(A @ omega) * tau**2)  # (T, 1)\n",
    "\n",
    "    # Final computation (broadcasted across tau and alpha_t)\n",
    "    result = (1 / gamma) * (term1 +  a @ (delta_T_omega_delta * (term2 + term3).T))  # (n, T)\n",
    "    \n",
    "    return result.T  # (T, n)\n",
    "\n",
    "def m(Y, tau : np.ndarray, alpha_t : np.ndarray, params):\n",
    "    return pi(tau, alpha_t, params) / Y"
   ]
  },
  {
   "cell_type": "code",
   "execution_count": 127,
   "metadata": {},
   "outputs": [],
   "source": [
    "def estimate_VAR(df_estimate):\n",
    "\n",
    "    df_lagged = df_estimate.shift(1).dropna()\n",
    "    df_current = df_estimate.iloc[1:]\n",
    "\n",
    "    # Extract values\n",
    "    X_estimate = df_lagged.values  # Lagged variables (t-1)\n",
    "    Y_estimate = df_current.values  # Current values at time t\n",
    "\n",
    "    # Fit multivariate regression for each asset (column)\n",
    "    model = LinearRegression(fit_intercept=True)\n",
    "    model.fit(X_estimate, Y_estimate)\n",
    "\n",
    "    # Coefficients\n",
    "    C = model.coef_  # (3x3 matrix)\n",
    "    b = model.intercept_  # (3x1 vector)\n",
    "    # Compute residuals\n",
    "    Y_pred = model.predict(X_estimate)  # Predicted values using Y_{t-1}\n",
    "    residuals = Y_estimate - Y_pred  # Compute residuals\n",
    "\n",
    "    # Estimate covariance matrix (Ω)\n",
    "    omega = np.cov(residuals, rowvar=False)\n",
    "    return C, b, omega\n",
    "\n",
    "def estimate_params(C, b, omega):\n",
    "    kappa = np.eye(len(C)) - C\n",
    "    theta = np.linalg.inv(kappa) @ b\n",
    "    eig = np.linalg.eig(kappa)\n",
    "    U = eig.eigenvectors\n",
    "    D = eig.eigenvalues\n",
    "    D_tilde = D\n",
    "    D_tilde[1:] = 0\n",
    "    kappa_tilde = U @ np.diag(D_tilde) @ np.linalg.inv(U)\n",
    "\n",
    "    a = - kappa_tilde[0, :]\n",
    "    delta = kappa_tilde[:, 0] / kappa_tilde[0, 0]\n",
    "    nu = kappa_tilde @ theta + 0.5 * np.diag(omega) \n",
    "    \n",
    "    return a, delta, nu"
   ]
  },
  {
   "cell_type": "code",
   "execution_count": 154,
   "metadata": {},
   "outputs": [],
   "source": [
    "# Rolling window, using the last 400 points to estimate the parameters for the next 400 points\n",
    "window_size = 400\n",
    "\n",
    "keep_size = 10\n",
    "\n",
    "portfolio = None\n",
    "weight = None\n",
    "for i in range(0, len(df) - window_size, keep_size):\n",
    "    df_estimate = df.iloc[i:i+window_size].copy()\n",
    "    df_estimate = df_estimate.resample(\"1min\").ffill()\n",
    "    df_portfolio = df.iloc[i+window_size:i+window_size+keep_size].copy()\n",
    "    df_portfolio = df_portfolio.resample(\"1min\").ffill()\n",
    "    df_estimate_log = np.log(df_estimate) \n",
    "    df_portfolio_log = np.log(df_portfolio)\n",
    "    # Estimate VAR model\n",
    "    C, b, omega = estimate_VAR(df_estimate_log)\n",
    "\n",
    "    # Estimate parameters\n",
    "    a, delta, nu = estimate_params(C, b, omega)\n",
    "\n",
    "    # price vector\n",
    "    prices = df_portfolio.values\n",
    "\n",
    "    # returns vector\n",
    "    returns = df_portfolio.pct_change()\n",
    "    returns = returns.dropna()\n",
    "    returns = returns.values\n",
    "\n",
    "\n",
    "    params = 1, omega, delta, nu, a\n",
    "\n",
    "    # Calculate alpha and tau\n",
    "    df_portfolio[\"alpha\"] = df_portfolio_log.mul(a, axis=1).sum(axis=1)\n",
    "    t = len(df)\n",
    "    df_portfolio[\"tau\"] = (t - np.arange(i, i + len(df_portfolio))) / t\n",
    "    \n",
    "    # Compute portfolio\n",
    "    weight_i = m(prices, df_portfolio[\"tau\"].values, df_portfolio[\"alpha\"].values, params)\n",
    "    portfolio_i = (weight_i[:-1] @ returns.T).sum(axis=1)\n",
    "\n",
    "    if portfolio is None:\n",
    "        weight = weight_i\n",
    "        portfolio = portfolio_i\n",
    "    else:\n",
    "        weight = np.vstack((weight, weight_i))\n",
    "        portfolio = np.concatenate((portfolio, portfolio_i))\n",
    "\n"
   ]
  },
  {
   "cell_type": "code",
   "execution_count": 155,
   "metadata": {},
   "outputs": [
    {
     "name": "stderr",
     "output_type": "stream",
     "text": [
      "/Users/bluee/Library/Python/3.9/lib/python/site-packages/matplotlib/cbook.py:1762: ComplexWarning: Casting complex values to real discards the imaginary part\n",
      "  return math.isfinite(val)\n",
      "/Users/bluee/Library/Python/3.9/lib/python/site-packages/matplotlib/cbook.py:1398: ComplexWarning: Casting complex values to real discards the imaginary part\n",
      "  return np.asarray(x, float)\n"
     ]
    },
    {
     "data": {
      "text/plain": [
       "<Axes: >"
      ]
     },
     "execution_count": 155,
     "metadata": {},
     "output_type": "execute_result"
    },
    {
     "data": {
      "image/png": "[encoded data removed]",
      "text/plain": [
       "<Figure size 640x480 with 1 Axes>"
      ]
     },
     "metadata": {},
     "output_type": "display_data"
    }
   ],
   "source": [
    "p = pd.Series(portfolio)\n",
    "p.cumsum().plot()"
   ]
  },
  {
   "cell_type": "code",
   "execution_count": 156,
   "metadata": {},
   "outputs": [
    {
     "name": "stderr",
     "output_type": "stream",
     "text": [
      "/Users/bluee/Library/Python/3.9/lib/python/site-packages/matplotlib/cbook.py:1762: ComplexWarning: Casting complex values to real discards the imaginary part\n",
      "  return math.isfinite(val)\n",
      "/Users/bluee/Library/Python/3.9/lib/python/site-packages/matplotlib/cbook.py:1398: ComplexWarning: Casting complex values to real discards the imaginary part\n",
      "  return np.asarray(x, float)\n"
     ]
    },
    {
     "data": {
      "text/plain": [
       "<Axes: >"
      ]
     },
     "execution_count": 156,
     "metadata": {},
     "output_type": "execute_result"
    },
    {
     "data": {
      "image/png": "[encoded data removed]",
      "text/plain": [
       "<Figure size 640x480 with 1 Axes>"
      ]
     },
     "metadata": {},
     "output_type": "display_data"
    }
   ],
   "source": [
    "w = pd.DataFrame(weight)\n",
    "w.plot()"
   ]
  }
 ],
 "metadata": {
  "kernelspec": {
   "display_name": "Python 3",
   "language": "python",
   "name": "python3"
  },
  "language_info": {
   "codemirror_mode": {
    "name": "ipython",
    "version": 3
   },
   "file_extension": ".py",
   "mimetype": "text/x-python",
   "name": "python",
   "nbconvert_exporter": "python",
   "pygments_lexer": "ipython3",
   "version": "3.9.6"
  }
 },
 "nbformat": 4,
 "nbformat_minor": 2
}
